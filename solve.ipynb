{
 "cells": [
  {
   "cell_type": "code",
   "execution_count": 1,
   "metadata": {},
   "outputs": [],
   "source": [
    "from source.solver import Species, is_valid_food_chain, get_valid_food_chains"
   ]
  },
  {
   "cell_type": "markdown",
   "metadata": {},
   "source": [
    "# Solving the Ecosystem Game\n",
    "\n",
    "This Jupyter Notebook is designed to solve a game of balancing an ecosystem as described on various websites online. <p>\n",
    "The game involves creating a valid food chain from a given list of species. \n",
    "Each species has specific attributes such as calories provided, calories needed, and lists of species it can eat and be eaten by. \n",
    "The goal is to determine valid food chains and rank them based on the total calories provided. <p>\n",
    "A food chain is valid if, after all species have eaten, no species has excess calories needed left i.e., the food chain is balanced.\n",
    "\n"
   ]
  },
  {
   "cell_type": "markdown",
   "metadata": {},
   "source": [
    "## You can use this notebook in two ways:"
   ]
  },
  {
   "cell_type": "markdown",
   "metadata": {},
   "source": [
    "### 1. You can use it to check if your food chain is valid\n",
    "  - You can do this by creating a list of Species objects, and then calling the is_valid_food_chain function\n",
    "  - If the food chain is valid, the function will return True and the number of excess calories\n",
    "  - To do this, use the template below, by filling in the names of the species, the calories they provide and need, and the species they eat and are eaten by and run the cell\n"
   ]
  },
  {
   "cell_type": "code",
   "execution_count": 2,
   "metadata": {},
   "outputs": [
    {
     "name": "stdout",
     "output_type": "stream",
     "text": [
      "The food chain is valid and the excess calories provided is 0\n"
     ]
    }
   ],
   "source": [
    "# Template for the species list for a food chain with 8 species\n",
    "example_species = [Species(name=\"\",\n",
    "                            calories_provided=0,\n",
    "                            calories_needed=0,\n",
    "                            eats=[],\n",
    "                            eaten_by=[]),\n",
    "                    Species(name=\"\",\n",
    "                            calories_provided=0,\n",
    "                            calories_needed=0,\n",
    "                            eats=[],\n",
    "                            eaten_by=[]),\n",
    "                    Species(name=\"\",\n",
    "                            calories_provided=0,\n",
    "                            calories_needed=0,\n",
    "                            eats=[],\n",
    "                            eaten_by=[]),\n",
    "                    Species(name=\"\",\n",
    "                            calories_provided=0,\n",
    "                            calories_needed=0,\n",
    "                            eats=[],\n",
    "                            eaten_by=[]),\n",
    "                    Species(name=\"\",\n",
    "                            calories_provided=0,\n",
    "                            calories_needed=0,\n",
    "                            eats=[],\n",
    "                            eaten_by=[]),\n",
    "                    Species(name=\"\",\n",
    "                            calories_provided=0,\n",
    "                            calories_needed=0,\n",
    "                            eats=[],\n",
    "                            eaten_by=[]),\n",
    "                    Species(name=\"\",\n",
    "                            calories_provided=0,\n",
    "                            calories_needed=0,\n",
    "                            eats=[],\n",
    "                            eaten_by=[]),\n",
    "                    Species(name=\"\",\n",
    "                            calories_provided=0,\n",
    "                            calories_needed=0,\n",
    "                            eats=[],\n",
    "                            eaten_by=[]),\n",
    "    ]\n",
    "\n",
    "# Check if the food chain is valid\n",
    "result = is_valid_food_chain(example_species)\n",
    "\n",
    "if result[0]:\n",
    "    print(\"The food chain is valid and the excess calories provided is\", result[1])\n",
    "else:\n",
    "    print(\"The food chain is invalid.\")"
   ]
  },
  {
   "cell_type": "markdown",
   "metadata": {},
   "source": [
    "### 2. You can use it to propose all possible foodchains, ranked by excess calories\n",
    "-  You can do this again, by adding the species to the list, this time the total number of species can be larger than the food chain size e.g., 10 species\n",
    "-  You then select how many species you want in the food chain, e.g., 8 species\n",
    "-  You can then get the valid food chains with 8 species from the list of 10 species and print the first 5 valid food chains, sorted by the excess calories provided by default\n"
   ]
  },
  {
   "cell_type": "code",
   "execution_count": 3,
   "metadata": {},
   "outputs": [],
   "source": [
    "# Template for the species list of 10 species and a food chain with 8 species\n",
    "\n",
    "food_chain_size = 8 # The size of the food chain\n",
    "example_species = [Species(name=\"\",\n",
    "                            calories_provided=0,\n",
    "                            calories_needed=0,\n",
    "                            eats=[],\n",
    "                            eaten_by=[]),\n",
    "                    Species(name=\"\",\n",
    "                            calories_provided=0,\n",
    "                            calories_needed=0,\n",
    "                            eats=[],\n",
    "                            eaten_by=[]),\n",
    "                    Species(name=\"\",\n",
    "                            calories_provided=0,\n",
    "                            calories_needed=0,\n",
    "                            eats=[],\n",
    "                            eaten_by=[]),\n",
    "                    Species(name=\"\",\n",
    "                            calories_provided=0,\n",
    "                            calories_needed=0,\n",
    "                            eats=[],\n",
    "                            eaten_by=[]),\n",
    "                    Species(name=\"\",\n",
    "                            calories_provided=0,\n",
    "                            calories_needed=0,\n",
    "                            eats=[],\n",
    "                            eaten_by=[]),\n",
    "                    Species(name=\"\",\n",
    "                            calories_provided=0,\n",
    "                            calories_needed=0,\n",
    "                            eats=[],\n",
    "                            eaten_by=[]),\n",
    "                    Species(name=\"\",\n",
    "                            calories_provided=0,\n",
    "                            calories_needed=0,\n",
    "                            eats=[],\n",
    "                            eaten_by=[]),\n",
    "                    Species(name=\"\",\n",
    "                            calories_provided=0,\n",
    "                            calories_needed=0,\n",
    "                            eats=[],\n",
    "                            eaten_by=[]),\n",
    "                    Species(name=\"\",\n",
    "                            calories_provided=0,\n",
    "                            calories_needed=0,\n",
    "                            eats=[],\n",
    "                            eaten_by=[]),\n",
    "                    Species(name=\"\",\n",
    "                            calories_provided=0,\n",
    "                            calories_needed=0,\n",
    "                            eats=[],\n",
    "                            eaten_by=[]),\n",
    "    ]\n",
    "\n",
    "possible_food_chains = get_valid_food_chains(example_species, food_chain_size)\n",
    "\n",
    "# Print the first 5 valid food chains with 8 species\n",
    "for i in range(5):\n",
    "    print(\"Food chain\", i+1, \"with 8 species and the excess calories provided is\", possible_food_chains[i][1])\n",
    "    for species in possible_food_chains[i][0]:\n",
    "        print(species.name)\n",
    "    print()"
   ]
  }
 ],
 "metadata": {
  "kernelspec": {
   "display_name": "base",
   "language": "python",
   "name": "python3"
  },
  "language_info": {
   "codemirror_mode": {
    "name": "ipython",
    "version": 3
   },
   "file_extension": ".py",
   "mimetype": "text/x-python",
   "name": "python",
   "nbconvert_exporter": "python",
   "pygments_lexer": "ipython3",
   "version": "3.9.16"
  }
 },
 "nbformat": 4,
 "nbformat_minor": 2
}
